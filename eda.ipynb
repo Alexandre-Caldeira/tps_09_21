{
 "cells": [
  {
   "cell_type": "code",
   "execution_count": null,
   "source": [
    "import numpy as np # linear algebra\r\n",
    "import pandas as pd # data processing, CSV file I/O (e.g. pd.read_csv)\r\n",
    "import seaborn as sns\r\n",
    "from sklearn.preprocessing import MinMaxScaler # https://scikit-learn.org/stable/modules/generated/sklearn.preprocessing.MinMaxScaler.html"
   ],
   "outputs": [],
   "metadata": {}
  },
  {
   "cell_type": "code",
   "execution_count": null,
   "source": [
    "s5 = pd.read_csv('selection_5_df.csv')\r\n",
    "s10 = pd.read_csv('selection_10_df.csv')\r\n",
    "s15 = pd.read_csv('selection_10_df.csv')\r\n",
    "s20 = pd.read_csv('selection_10_df.csv')\r\n",
    "s30 = pd.read_csv('selection_10_df.csv')\r\n",
    "s40 = pd.read_csv('selection_10_df.csv')\r\n",
    "s42 = pd.read_csv('selection_10_df.csv')\r\n",
    "s50 = pd.read_csv('selection_10_df.csv')\r\n",
    "s60 = pd.read_csv('selection_10_df.csv')\r\n",
    "s70 = pd.read_csv('selection_10_df.csv')\r\n",
    "s80 = pd.read_csv('selection_10_df.csv')\r\n"
   ],
   "outputs": [],
   "metadata": {}
  },
  {
   "cell_type": "code",
   "execution_count": null,
   "source": [
    "matrix = np.triu(dfs[0].corr())\r\n",
    "sns.heatmap(annot=True,data=dfs[0].corr(), fmt='.1g',square=True,mask=matrix) # Enorme não da pra ver nada"
   ],
   "outputs": [],
   "metadata": {}
  }
 ],
 "metadata": {
  "orig_nbformat": 4,
  "language_info": {
   "name": "python",
   "version": "3.8.8"
  },
  "kernelspec": {
   "name": "python3",
   "display_name": "Python 3.8.8 64-bit"
  },
  "interpreter": {
   "hash": "cfa9f19be2613e4579a58a9987011ae958af41d7e96c35562382e4ee706b270d"
  }
 },
 "nbformat": 4,
 "nbformat_minor": 2
}