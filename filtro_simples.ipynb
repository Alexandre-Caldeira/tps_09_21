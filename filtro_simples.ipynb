{
 "cells": [
  {
   "cell_type": "code",
<<<<<<< HEAD
   "execution_count": 1,
=======
   "execution_count": 85,
>>>>>>> remotes/origin/alexandre
   "source": [
    "# SETUP\r\n",
    "## Importing libs\r\n",
    "import numpy as np # linear algebra\r\n",
    "import pandas as pd # data processing, CSV file I/O (e.g. pd.read_csv)\r\n",
    "import seaborn as sns\r\n",
    "import matplotlib.pyplot as plt\r\n",
    "from sklearn.preprocessing import MinMaxScaler\r\n",
    "\r\n",
    "## Random params\r\n",
    "np.random.seed(0)\r\n",
    "random_state = 338\r\n",
    "\r\n",
    "## Plot params\r\n",
    "%matplotlib inline\r\n",
    "np.random.seed(0)\r\n",
    "plt.rcParams['figure.figsize'] = [20, 8]\r\n",
    "plt.rcParams['figure.dpi'] = 100 # 200 e.g. is really fine, but slower\r\n",
    "sns.set_theme(context=\"notebook\")\r\n",
    "\r\n",
    "## Load train and test\r\n",
    "test = pd.read_csv('../test.csv', index_col='id')\r\n",
    "dT = pd.read_csv('../train.csv', index_col='id')\r\n",
    "\r\n",
    "## Calc stats\r\n",
    "stats = dT.describe()\r\n",
    "statsTarget = stats.pop('claim')\r\n",
<<<<<<< HEAD
    "stats = stats.transpose()\r\n",
    "old = dT.copy()\r\n",
    "dT['na'] = dT.isna().sum(axis=1)"
=======
    "stats = stats.transpose()"
>>>>>>> remotes/origin/alexandre
   ],
   "outputs": [],
   "metadata": {}
  },
  {
   "cell_type": "code",
<<<<<<< HEAD
   "execution_count": 3,
=======
   "execution_count": 86,
>>>>>>> remotes/origin/alexandre
   "source": [
    "stats['rounded_std_over_mean'] = round(abs(stats['std']/stats['mean']), 2)\r\n",
    "plt.stem(stats.loc[stats['rounded_std_over_mean']<= 6]['rounded_std_over_mean'])\r\n",
    "plt.axhline(0.3)"
   ],
   "outputs": [
    {
     "output_type": "execute_result",
     "data": {
      "text/plain": [
<<<<<<< HEAD
       "<matplotlib.lines.Line2D at 0x1e112306070>"
      ]
     },
     "metadata": {},
     "execution_count": 3
=======
       "<matplotlib.lines.Line2D at 0x1d236162d60>"
      ]
     },
     "metadata": {},
     "execution_count": 86
>>>>>>> remotes/origin/alexandre
    },
    {
     "output_type": "display_data",
     "data": {
      "image/png": "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",
      "text/plain": [
       "<Figure size 2000x800 with 1 Axes>"
      ]
     },
     "metadata": {}
    }
   ],
   "metadata": {}
  },
  {
   "cell_type": "code",
<<<<<<< HEAD
   "execution_count": 4,
=======
   "execution_count": 87,
>>>>>>> remotes/origin/alexandre
   "source": [
    "stats.head()"
   ],
   "outputs": [
    {
     "output_type": "execute_result",
     "data": {
      "text/html": [
       "<div>\n",
       "<style scoped>\n",
       "    .dataframe tbody tr th:only-of-type {\n",
       "        vertical-align: middle;\n",
       "    }\n",
       "\n",
       "    .dataframe tbody tr th {\n",
       "        vertical-align: top;\n",
       "    }\n",
       "\n",
       "    .dataframe thead th {\n",
       "        text-align: right;\n",
       "    }\n",
       "</style>\n",
       "<table border=\"1\" class=\"dataframe\">\n",
       "  <thead>\n",
       "    <tr style=\"text-align: right;\">\n",
       "      <th></th>\n",
       "      <th>count</th>\n",
       "      <th>mean</th>\n",
       "      <th>std</th>\n",
       "      <th>min</th>\n",
       "      <th>25%</th>\n",
       "      <th>50%</th>\n",
       "      <th>75%</th>\n",
       "      <th>max</th>\n",
       "      <th>rounded_std_over_mean</th>\n",
       "    </tr>\n",
       "  </thead>\n",
       "  <tbody>\n",
       "    <tr>\n",
       "      <th>f1</th>\n",
       "      <td>942672.0</td>\n",
       "      <td>0.090201</td>\n",
       "      <td>0.043564</td>\n",
       "      <td>-0.149910</td>\n",
       "      <td>0.070227</td>\n",
       "      <td>0.090135</td>\n",
       "      <td>0.11650</td>\n",
       "      <td>0.41517</td>\n",
       "      <td>0.48</td>\n",
       "    </tr>\n",
       "    <tr>\n",
       "      <th>f2</th>\n",
       "      <td>942729.0</td>\n",
       "      <td>0.345964</td>\n",
       "      <td>0.146251</td>\n",
       "      <td>-0.019044</td>\n",
       "      <td>0.283050</td>\n",
       "      <td>0.389100</td>\n",
       "      <td>0.45845</td>\n",
       "      <td>0.51899</td>\n",
       "      <td>0.42</td>\n",
       "    </tr>\n",
       "    <tr>\n",
       "      <th>f3</th>\n",
       "      <td>942428.0</td>\n",
       "      <td>4068.744207</td>\n",
       "      <td>6415.829440</td>\n",
       "      <td>-9421.700000</td>\n",
       "      <td>418.430000</td>\n",
       "      <td>1279.500000</td>\n",
       "      <td>4444.40000</td>\n",
       "      <td>39544.00000</td>\n",
       "      <td>1.58</td>\n",
       "    </tr>\n",
       "    <tr>\n",
       "      <th>f4</th>\n",
       "      <td>942359.0</td>\n",
       "      <td>0.201214</td>\n",
       "      <td>0.212510</td>\n",
       "      <td>-0.082122</td>\n",
       "      <td>0.035086</td>\n",
       "      <td>0.137000</td>\n",
       "      <td>0.29710</td>\n",
       "      <td>1.31990</td>\n",
       "      <td>1.06</td>\n",
       "    </tr>\n",
       "    <tr>\n",
       "      <th>f5</th>\n",
       "      <td>942514.0</td>\n",
       "      <td>0.304869</td>\n",
       "      <td>0.145343</td>\n",
       "      <td>-0.006990</td>\n",
       "      <td>0.240520</td>\n",
       "      <td>0.327790</td>\n",
       "      <td>0.41283</td>\n",
       "      <td>0.55475</td>\n",
       "      <td>0.48</td>\n",
       "    </tr>\n",
       "  </tbody>\n",
       "</table>\n",
       "</div>"
      ],
      "text/plain": [
       "       count         mean          std          min         25%          50%  \\\n",
       "f1  942672.0     0.090201     0.043564    -0.149910    0.070227     0.090135   \n",
       "f2  942729.0     0.345964     0.146251    -0.019044    0.283050     0.389100   \n",
       "f3  942428.0  4068.744207  6415.829440 -9421.700000  418.430000  1279.500000   \n",
       "f4  942359.0     0.201214     0.212510    -0.082122    0.035086     0.137000   \n",
       "f5  942514.0     0.304869     0.145343    -0.006990    0.240520     0.327790   \n",
       "\n",
       "           75%          max  rounded_std_over_mean  \n",
       "f1     0.11650      0.41517                   0.48  \n",
       "f2     0.45845      0.51899                   0.42  \n",
       "f3  4444.40000  39544.00000                   1.58  \n",
       "f4     0.29710      1.31990                   1.06  \n",
       "f5     0.41283      0.55475                   0.48  "
      ]
     },
     "metadata": {},
<<<<<<< HEAD
     "execution_count": 4
=======
     "execution_count": 87
>>>>>>> remotes/origin/alexandre
    }
   ],
   "metadata": {}
  },
  {
   "cell_type": "code",
<<<<<<< HEAD
   "execution_count": 16,
   "source": [
    "selection = list(stats.loc[stats['rounded_std_over_mean']>=0.3].index.values)\r\n",
    "selection.append('claim')\r\n",
    "selection.append('na')\r\n",
    "print(selection)\r\n",
    "aug = dT[selection].copy()\r\n",
    "aug.head()\r\n",
    "# aug = aug.fillna(value = aug.min())"
=======
   "execution_count": 93,
   "source": [
    "selection = list(stats.loc[stats['rounded_std_over_mean']>=0.3].index.values)\r\n",
    "selection.append('claim')\r\n",
    "print(selection)\r\n",
    "aug = dT[selection].copy()"
>>>>>>> remotes/origin/alexandre
   ],
   "outputs": [
    {
     "output_type": "stream",
     "name": "stdout",
     "text": [
<<<<<<< HEAD
      "['f1', 'f2', 'f3', 'f4', 'f5', 'f6', 'f7', 'f8', 'f9', 'f10', 'f11', 'f12', 'f13', 'f14', 'f15', 'f16', 'f18', 'f19', 'f20', 'f21', 'f22', 'f23', 'f24', 'f25', 'f26', 'f27', 'f28', 'f29', 'f30', 'f31', 'f32', 'f33', 'f34', 'f35', 'f36', 'f37', 'f38', 'f39', 'f40', 'f41', 'f42', 'f44', 'f45', 'f47', 'f48', 'f49', 'f50', 'f51', 'f52', 'f53', 'f55', 'f56', 'f57', 'f58', 'f59', 'f60', 'f61', 'f62', 'f63', 'f64', 'f65', 'f66', 'f67', 'f68', 'f70', 'f72', 'f73', 'f74', 'f75', 'f77', 'f78', 'f79', 'f80', 'f81', 'f82', 'f83', 'f84', 'f85', 'f86', 'f87', 'f88', 'f89', 'f90', 'f91', 'f92', 'f93', 'f94', 'f95', 'f96', 'f98', 'f99', 'f100', 'f101', 'f102', 'f103', 'f104', 'f105', 'f106', 'f107', 'f108', 'f109', 'f110', 'f111', 'f112', 'f113', 'f114', 'f116', 'f117', 'f118', 'claim', 'na']\n"
     ]
    },
    {
     "output_type": "execute_result",
     "data": {
      "text/html": [
       "<div>\n",
       "<style scoped>\n",
       "    .dataframe tbody tr th:only-of-type {\n",
       "        vertical-align: middle;\n",
       "    }\n",
       "\n",
       "    .dataframe tbody tr th {\n",
       "        vertical-align: top;\n",
       "    }\n",
       "\n",
       "    .dataframe thead th {\n",
       "        text-align: right;\n",
       "    }\n",
       "</style>\n",
       "<table border=\"1\" class=\"dataframe\">\n",
       "  <thead>\n",
       "    <tr style=\"text-align: right;\">\n",
       "      <th></th>\n",
       "      <th>f1</th>\n",
       "      <th>f2</th>\n",
       "      <th>f3</th>\n",
       "      <th>f4</th>\n",
       "      <th>f5</th>\n",
       "      <th>f6</th>\n",
       "      <th>f7</th>\n",
       "      <th>f8</th>\n",
       "      <th>f9</th>\n",
       "      <th>f10</th>\n",
       "      <th>...</th>\n",
       "      <th>f110</th>\n",
       "      <th>f111</th>\n",
       "      <th>f112</th>\n",
       "      <th>f113</th>\n",
       "      <th>f114</th>\n",
       "      <th>f116</th>\n",
       "      <th>f117</th>\n",
       "      <th>f118</th>\n",
       "      <th>claim</th>\n",
       "      <th>na</th>\n",
       "    </tr>\n",
       "    <tr>\n",
       "      <th>id</th>\n",
       "      <th></th>\n",
       "      <th></th>\n",
       "      <th></th>\n",
       "      <th></th>\n",
       "      <th></th>\n",
       "      <th></th>\n",
       "      <th></th>\n",
       "      <th></th>\n",
       "      <th></th>\n",
       "      <th></th>\n",
       "      <th></th>\n",
       "      <th></th>\n",
       "      <th></th>\n",
       "      <th></th>\n",
       "      <th></th>\n",
       "      <th></th>\n",
       "      <th></th>\n",
       "      <th></th>\n",
       "      <th></th>\n",
       "      <th></th>\n",
       "      <th></th>\n",
       "    </tr>\n",
       "  </thead>\n",
       "  <tbody>\n",
       "    <tr>\n",
       "      <th>0</th>\n",
       "      <td>0.10859</td>\n",
       "      <td>0.004314</td>\n",
       "      <td>-37.566</td>\n",
       "      <td>0.017364</td>\n",
       "      <td>0.28915</td>\n",
       "      <td>-10.25100</td>\n",
       "      <td>135.12</td>\n",
       "      <td>168900.0</td>\n",
       "      <td>3.992400e+14</td>\n",
       "      <td>86.489</td>\n",
       "      <td>...</td>\n",
       "      <td>-12.2280</td>\n",
       "      <td>1.7482</td>\n",
       "      <td>1.90960</td>\n",
       "      <td>-7.11570</td>\n",
       "      <td>4378.80</td>\n",
       "      <td>8.613400e+14</td>\n",
       "      <td>140.1</td>\n",
       "      <td>1.01770</td>\n",
       "      <td>1</td>\n",
       "      <td>1</td>\n",
       "    </tr>\n",
       "    <tr>\n",
       "      <th>1</th>\n",
       "      <td>0.10090</td>\n",
       "      <td>0.299610</td>\n",
       "      <td>11822.000</td>\n",
       "      <td>0.276500</td>\n",
       "      <td>0.45970</td>\n",
       "      <td>-0.83733</td>\n",
       "      <td>1721.90</td>\n",
       "      <td>119810.0</td>\n",
       "      <td>3.874100e+15</td>\n",
       "      <td>9953.600</td>\n",
       "      <td>...</td>\n",
       "      <td>-56.7580</td>\n",
       "      <td>4.1684</td>\n",
       "      <td>0.34808</td>\n",
       "      <td>4.14200</td>\n",
       "      <td>913.23</td>\n",
       "      <td>7.575100e+15</td>\n",
       "      <td>1861.0</td>\n",
       "      <td>0.28359</td>\n",
       "      <td>0</td>\n",
       "      <td>0</td>\n",
       "    </tr>\n",
       "    <tr>\n",
       "      <th>2</th>\n",
       "      <td>0.17803</td>\n",
       "      <td>-0.006980</td>\n",
       "      <td>907.270</td>\n",
       "      <td>0.272140</td>\n",
       "      <td>0.45948</td>\n",
       "      <td>0.17327</td>\n",
       "      <td>2298.00</td>\n",
       "      <td>360650.0</td>\n",
       "      <td>1.224500e+13</td>\n",
       "      <td>15827.000</td>\n",
       "      <td>...</td>\n",
       "      <td>-5.7688</td>\n",
       "      <td>1.2042</td>\n",
       "      <td>0.26290</td>\n",
       "      <td>8.13120</td>\n",
       "      <td>45119.00</td>\n",
       "      <td>3.218100e+14</td>\n",
       "      <td>3838.2</td>\n",
       "      <td>0.40690</td>\n",
       "      <td>1</td>\n",
       "      <td>5</td>\n",
       "    </tr>\n",
       "    <tr>\n",
       "      <th>3</th>\n",
       "      <td>0.15236</td>\n",
       "      <td>0.007259</td>\n",
       "      <td>780.100</td>\n",
       "      <td>0.025179</td>\n",
       "      <td>0.51947</td>\n",
       "      <td>7.49140</td>\n",
       "      <td>112.51</td>\n",
       "      <td>259490.0</td>\n",
       "      <td>7.781400e+13</td>\n",
       "      <td>-36.837</td>\n",
       "      <td>...</td>\n",
       "      <td>-34.8580</td>\n",
       "      <td>2.0694</td>\n",
       "      <td>0.79631</td>\n",
       "      <td>-16.33600</td>\n",
       "      <td>4952.40</td>\n",
       "      <td>4.533000e+12</td>\n",
       "      <td>4889.1</td>\n",
       "      <td>0.51486</td>\n",
       "      <td>1</td>\n",
       "      <td>2</td>\n",
       "    </tr>\n",
       "    <tr>\n",
       "      <th>4</th>\n",
       "      <td>0.11623</td>\n",
       "      <td>0.502900</td>\n",
       "      <td>-109.150</td>\n",
       "      <td>0.297910</td>\n",
       "      <td>0.34490</td>\n",
       "      <td>-0.40932</td>\n",
       "      <td>2538.90</td>\n",
       "      <td>65332.0</td>\n",
       "      <td>1.907200e+15</td>\n",
       "      <td>144.120</td>\n",
       "      <td>...</td>\n",
       "      <td>-13.6410</td>\n",
       "      <td>1.5298</td>\n",
       "      <td>1.14640</td>\n",
       "      <td>-0.43124</td>\n",
       "      <td>3856.50</td>\n",
       "      <td>-8.991300e+12</td>\n",
       "      <td>NaN</td>\n",
       "      <td>0.23049</td>\n",
       "      <td>1</td>\n",
       "      <td>8</td>\n",
       "    </tr>\n",
       "  </tbody>\n",
       "</table>\n",
       "<p>5 rows × 111 columns</p>\n",
       "</div>"
      ],
      "text/plain": [
       "         f1        f2         f3        f4       f5        f6       f7  \\\n",
       "id                                                                       \n",
       "0   0.10859  0.004314    -37.566  0.017364  0.28915 -10.25100   135.12   \n",
       "1   0.10090  0.299610  11822.000  0.276500  0.45970  -0.83733  1721.90   \n",
       "2   0.17803 -0.006980    907.270  0.272140  0.45948   0.17327  2298.00   \n",
       "3   0.15236  0.007259    780.100  0.025179  0.51947   7.49140   112.51   \n",
       "4   0.11623  0.502900   -109.150  0.297910  0.34490  -0.40932  2538.90   \n",
       "\n",
       "          f8            f9        f10  ...     f110    f111     f112  \\\n",
       "id                                     ...                             \n",
       "0   168900.0  3.992400e+14     86.489  ... -12.2280  1.7482  1.90960   \n",
       "1   119810.0  3.874100e+15   9953.600  ... -56.7580  4.1684  0.34808   \n",
       "2   360650.0  1.224500e+13  15827.000  ...  -5.7688  1.2042  0.26290   \n",
       "3   259490.0  7.781400e+13    -36.837  ... -34.8580  2.0694  0.79631   \n",
       "4    65332.0  1.907200e+15    144.120  ... -13.6410  1.5298  1.14640   \n",
       "\n",
       "        f113      f114          f116    f117     f118  claim  na  \n",
       "id                                                                \n",
       "0   -7.11570   4378.80  8.613400e+14   140.1  1.01770      1   1  \n",
       "1    4.14200    913.23  7.575100e+15  1861.0  0.28359      0   0  \n",
       "2    8.13120  45119.00  3.218100e+14  3838.2  0.40690      1   5  \n",
       "3  -16.33600   4952.40  4.533000e+12  4889.1  0.51486      1   2  \n",
       "4   -0.43124   3856.50 -8.991300e+12     NaN  0.23049      1   8  \n",
       "\n",
       "[5 rows x 111 columns]"
      ]
     },
     "metadata": {},
     "execution_count": 16
=======
      "['f1', 'f2', 'f3', 'f4', 'f5', 'f6', 'f7', 'f8', 'f9', 'f10', 'f11', 'f12', 'f13', 'f14', 'f15', 'f16', 'f18', 'f19', 'f20', 'f21', 'f22', 'f23', 'f24', 'f25', 'f26', 'f27', 'f28', 'f29', 'f30', 'f31', 'f32', 'f33', 'f34', 'f35', 'f36', 'f37', 'f38', 'f39', 'f40', 'f41', 'f42', 'f44', 'f45', 'f47', 'f48', 'f49', 'f50', 'f51', 'f52', 'f53', 'f55', 'f56', 'f57', 'f58', 'f59', 'f60', 'f61', 'f62', 'f63', 'f64', 'f65', 'f66', 'f67', 'f68', 'f70', 'f72', 'f73', 'f74', 'f75', 'f77', 'f78', 'f79', 'f80', 'f81', 'f82', 'f83', 'f84', 'f85', 'f86', 'f87', 'f88', 'f89', 'f90', 'f91', 'f92', 'f93', 'f94', 'f95', 'f96', 'f98', 'f99', 'f100', 'f101', 'f102', 'f103', 'f104', 'f105', 'f106', 'f107', 'f108', 'f109', 'f110', 'f111', 'f112', 'f113', 'f114', 'f116', 'f117', 'f118', 'claim']\n"
     ]
>>>>>>> remotes/origin/alexandre
    }
   ],
   "metadata": {}
  },
  {
   "cell_type": "code",
<<<<<<< HEAD
   "execution_count": 6,
=======
   "execution_count": 94,
   "source": [
    "aug.head()\r\n",
    "aug = aug.fillna(value = aug.mode())"
   ],
   "outputs": [],
   "metadata": {}
  },
  {
   "cell_type": "code",
   "execution_count": 41,
>>>>>>> remotes/origin/alexandre
   "source": [
    "from sklearn.model_selection import train_test_split\r\n",
    "from sklearn.metrics import roc_auc_score\r\n",
    "\r\n",
    "def avaliaModelo(X,y,modelo):\r\n",
    "    \r\n",
    "    X_train, X_test, y_train, y_test = train_test_split(X, y, test_size=0.33, random_state=42)\r\n",
    "\r\n",
    "    modelo.fit(X_train,y_train,verbose=False,plot=True)\r\n",
    "\r\n",
    "    print(roc_auc_score(y_test, modelo.predict_proba(X_test)[:,1]))"
   ],
   "outputs": [],
   "metadata": {}
  },
  {
   "cell_type": "code",
<<<<<<< HEAD
   "execution_count": 30,
   "source": [
    "from catboost import CatBoostClassifier\r\n",
    "# iterations= 15585\r\n",
    "modelo_FULLDS = CatBoostClassifier(iterations= 1558, \r\n",
    "    objective= 'CrossEntropy', \r\n",
    "    bootstrap_type = 'Bernoulli', \r\n",
    "    od_wait = 1144, \r\n",
    "    learning_rate = 0.023575206684596582, \r\n",
    "    reg_lambda= 36.30433203563295, \r\n",
    "    random_strength= 43.75597655616195, \r\n",
    "    depth= 7, \r\n",
    "    min_data_in_leaf= 11, \r\n",
    "    leaf_estimation_iterations= 1, \r\n",
    "    subsample= 0.8227911142845009,\r\n",
    "    task_type=\"GPU\",devices='0:1', eval_metric='AUC')\r\n",
    "\r\n",
    "print('\\n ~ FULL ~')\r\n",
    "X_full = dT.copy()\r\n",
    "# X_full = X_full.fillna(X_full.min())\r\n",
=======
   "execution_count": 95,
   "source": [
    "from catboost import CatBoostClassifier\r\n",
    "\r\n",
    "modelo_FULLDS = CatBoostClassifier(iterations=3000,task_type=\"GPU\",devices='0:1', eval_metric='AUC')\r\n",
    "\r\n",
    "print('\\n ~ FULL ~')\r\n",
    "X_full = dT.copy()\r\n",
>>>>>>> remotes/origin/alexandre
    "y_full = X_full.pop('claim')\r\n",
    "avaliaModelo(X_full,y_full,modelo_FULLDS)"
   ],
   "outputs": [
    {
     "output_type": "stream",
     "name": "stdout",
     "text": [
      "\n",
      " ~ FULL ~\n"
     ]
    },
    {
     "output_type": "display_data",
     "data": {
      "application/vnd.jupyter.widget-view+json": {
       "version_major": 2,
       "version_minor": 0,
<<<<<<< HEAD
       "model_id": "5bac32fdbef4469f966cf7edcb77ac68"
=======
       "model_id": "462cd8659a8048d5b81217337e237c7e"
>>>>>>> remotes/origin/alexandre
      },
      "text/plain": [
       "MetricVisualizer(layout=Layout(align_self='stretch', height='500px'))"
      ]
     },
     "metadata": {}
    },
    {
     "output_type": "stream",
     "name": "stdout",
     "text": [
<<<<<<< HEAD
      "0.8135526776234545\n"
     ]
    }
   ],
   "metadata": {}
  },
  {
   "cell_type": "code",
   "execution_count": 7,
   "source": [
    "selection = list(stats.loc[stats['rounded_std_over_mean']>=0.3].index.values)\r\n",
    "selection.append('claim')\r\n",
    "print(selection)\r\n",
    "aug = dT[selection].copy()\r\n",
    "aug.head()\r\n",
    "aug = aug.fillna(value = aug.min())"
   ],
   "outputs": [
    {
     "output_type": "stream",
     "name": "stdout",
     "text": [
      "['f1', 'f2', 'f3', 'f4', 'f5', 'f6', 'f7', 'f8', 'f9', 'f10', 'f11', 'f12', 'f13', 'f14', 'f15', 'f16', 'f18', 'f19', 'f20', 'f21', 'f22', 'f23', 'f24', 'f25', 'f26', 'f27', 'f28', 'f29', 'f30', 'f31', 'f32', 'f33', 'f34', 'f35', 'f36', 'f37', 'f38', 'f39', 'f40', 'f41', 'f42', 'f44', 'f45', 'f47', 'f48', 'f49', 'f50', 'f51', 'f52', 'f53', 'f55', 'f56', 'f57', 'f58', 'f59', 'f60', 'f61', 'f62', 'f63', 'f64', 'f65', 'f66', 'f67', 'f68', 'f70', 'f72', 'f73', 'f74', 'f75', 'f77', 'f78', 'f79', 'f80', 'f81', 'f82', 'f83', 'f84', 'f85', 'f86', 'f87', 'f88', 'f89', 'f90', 'f91', 'f92', 'f93', 'f94', 'f95', 'f96', 'f98', 'f99', 'f100', 'f101', 'f102', 'f103', 'f104', 'f105', 'f106', 'f107', 'f108', 'f109', 'f110', 'f111', 'f112', 'f113', 'f114', 'f116', 'f117', 'f118', 'claim']\n"
=======
      "0.8004246343436816\n"
>>>>>>> remotes/origin/alexandre
     ]
    }
   ],
   "metadata": {}
  },
  {
   "cell_type": "code",
<<<<<<< HEAD
   "execution_count": 24,
   "source": [
    "from sklearn.preprocessing import QuantileTransformer # the best\r\n",
    "# scaler = Normalizer()\r\n",
    "scaler1 = QuantileTransformer()\r\n",
    "# scaler2 = Normalizer()\r\n",
    "scaler3 = QuantileTransformer()\r\n",
    "\r\n",
    "# scaler.fit(aug)\r\n",
    "scaler1.fit(aug)\r\n",
    "\r\n",
    "# scaledTrain = pd.DataFrame(scaler.transform(aug))\r\n",
    "# scaledTrain.index = aug.index\r\n",
    "# scaledTrain.columns = aug.columns\r\n",
    "\r\n",
    "scaledTrain = pd.DataFrame(scaler1.transform(aug))\r\n",
    "scaledTrain.index = aug.index\r\n",
    "scaledTrain.columns = aug.columns\r\n",
    "\r\n",
    "scaledTrain.head()\r\n",
    "# aug = scaledTrain\r\n",
    "\r\n",
    "cleanTest = test.copy()\r\n",
    "\r\n",
    "# scaler2.fit(cleanTest)\r\n",
    "scaler3.fit(cleanTest)\r\n",
    "\r\n",
    "# scaledTest = pd.DataFrame(scaler2.transform(cleanTest))\r\n",
    "# scaledTest.index = cleanTest.index\r\n",
    "# scaledTest.columns = cleanTest.columns\r\n",
    "\r\n",
    "scaledTest = pd.DataFrame(scaler3.transform(test))\r\n",
    "scaledTest.index = cleanTest.index\r\n",
    "scaledTest.columns = cleanTest.columns\r\n",
    "\r\n",
    "# scaledTest.head()"
   ],
   "outputs": [],
   "metadata": {}
  },
  {
   "cell_type": "code",
   "execution_count": 25,
   "source": [
    "from catboost import CatBoostClassifier\r\n",
    "modelo_SEL_AUG = CatBoostClassifier(iterations= 1558, \r\n",
    "    objective= 'CrossEntropy', \r\n",
    "    bootstrap_type = 'Bernoulli', \r\n",
    "    od_wait = 1144, \r\n",
    "    learning_rate = 0.023575206684596582, \r\n",
    "    reg_lambda= 36.30433203563295, \r\n",
    "    random_strength= 43.75597655616195, \r\n",
    "    depth= 7, \r\n",
    "    min_data_in_leaf= 11, \r\n",
    "    leaf_estimation_iterations= 1, \r\n",
    "    subsample= 0.8227911142845009,\r\n",
    "    task_type=\"GPU\",devices='0:1', eval_metric='AUC')\r\n",
    "\r\n",
    "print('\\n ~ SELECTED AUGMENTED ~')\r\n",
    "X_sel_aug = scaledTrain.copy()\r\n",
=======
   "execution_count": 96,
   "source": [
    "modelo_SEL_AUG = CatBoostClassifier(iterations=1000,task_type=\"GPU\",devices='0:1', eval_metric='AUC')\r\n",
    "\r\n",
    "print('\\n ~ SELECTED AUGMENTED ~')\r\n",
    "X_sel_aug = aug.copy()\r\n",
>>>>>>> remotes/origin/alexandre
    "y_sel_aug = X_sel_aug.pop('claim')\r\n",
    "avaliaModelo(X_sel_aug,y_sel_aug,modelo_SEL_AUG)"
   ],
   "outputs": [
    {
     "output_type": "stream",
     "name": "stdout",
     "text": [
      "\n",
      " ~ SELECTED AUGMENTED ~\n"
     ]
    },
    {
<<<<<<< HEAD
     "output_type": "stream",
     "name": "stderr",
     "text": [
      "Custom logger is already specified. Specify more than one logger at same time is not thread safe."
     ]
    },
    {
=======
>>>>>>> remotes/origin/alexandre
     "output_type": "display_data",
     "data": {
      "application/vnd.jupyter.widget-view+json": {
       "version_major": 2,
       "version_minor": 0,
<<<<<<< HEAD
       "model_id": "f912b3bb25ec4b288f5c320ec69b7600"
=======
       "model_id": "69cd0a3afdf9450e8f07575dfafd0466"
>>>>>>> remotes/origin/alexandre
      },
      "text/plain": [
       "MetricVisualizer(layout=Layout(align_self='stretch', height='500px'))"
      ]
     },
     "metadata": {}
    },
    {
     "output_type": "stream",
     "name": "stdout",
     "text": [
<<<<<<< HEAD
      "0.813234447259038\n"
     ]
    }
   ],
   "metadata": {}
  },
  {
   "cell_type": "code",
   "execution_count": 33,
   "source": [
    "sub1 = modelo_FULLDS.predict_proba(scaledTest)[:,1]\r\n",
    "mysub1 = pd.DataFrame(test.index)\r\n",
    "mysub1['claim'] = sub1\r\n",
    "mysub1['claim'] = mysub1['claim'].fillna(0)\r\n",
    "print(mysub1.mean()*100)\r\n",
    "mysub1['claim'].hist()\r\n",
    "var1 = 'fullDS_optunaCATBOOSTsuggestionDISCUSSIONS_noInputing_quantileTransform'\r\n",
    "mysub1.to_csv(var1+'_submisssion.csv',index=False)"
   ],
   "outputs": [
    {
     "output_type": "stream",
     "name": "stdout",
     "text": [
      "id       1.204656e+08\n",
      "claim    2.385112e+01\n",
      "dtype: float64\n"
     ]
    },
    {
     "output_type": "display_data",
     "data": {
      "image/png": "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",
      "text/plain": [
       "<Figure size 2000x800 with 1 Axes>"
      ]
     },
     "metadata": {}
    }
   ],
   "metadata": {}
  },
  {
   "cell_type": "code",
   "execution_count": 27,
   "source": [
    "oldT = scaledTest.copy()\r\n",
    "test['na'] = scaledTest.isna().sum(axis=1)"
   ],
   "outputs": [],
   "metadata": {}
  },
  {
   "cell_type": "code",
   "execution_count": 29,
   "source": [
    "sub2 = modelo_SEL_AUG.predict_proba(test)[:,1]\r\n",
    "mysub2 = pd.DataFrame(test.index)\r\n",
    "mysub2['claim'] = sub2\r\n",
    "mysub2['claim'] = mysub2['claim'].fillna(0)\r\n",
    "print(mysub2.mean()*100)\r\n",
    "mysub2['claim'].hist()\r\n",
    "var2 = 'selectedHighCVpercent_optunaCATBOOSTsuggestionDISCUSSIONS_noInputing_isNAcountcolumn_quantileTransform'\r\n",
    "mysub2.to_csv(var2+'_submisssion.csv',index=False)"
   ],
   "outputs": [
    {
     "output_type": "stream",
     "name": "stdout",
     "text": [
      "id       1.204656e+08\n",
      "claim    5.634812e+01\n",
      "dtype: float64\n"
     ]
    },
    {
     "output_type": "display_data",
     "data": {
      "image/png": "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",
      "text/plain": [
       "<Figure size 2000x800 with 1 Axes>"
      ]
     },
     "metadata": {}
=======
      "0.7958837449181271\n"
     ]
>>>>>>> remotes/origin/alexandre
    }
   ],
   "metadata": {}
  }
 ],
 "metadata": {
  "orig_nbformat": 4,
  "language_info": {
   "name": "python",
   "version": "3.8.8",
   "mimetype": "text/x-python",
   "codemirror_mode": {
    "name": "ipython",
    "version": 3
   },
   "pygments_lexer": "ipython3",
   "nbconvert_exporter": "python",
   "file_extension": ".py"
  },
  "kernelspec": {
   "name": "python3",
   "display_name": "Python 3.8.8 64-bit"
  },
  "interpreter": {
   "hash": "cfa9f19be2613e4579a58a9987011ae958af41d7e96c35562382e4ee706b270d"
  }
 },
 "nbformat": 4,
 "nbformat_minor": 2
}