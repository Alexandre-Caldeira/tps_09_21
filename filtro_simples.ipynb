{
 "cells": [
  {
   "cell_type": "code",
   "execution_count": 85,
   "source": [
    "# SETUP\r\n",
    "## Importing libs\r\n",
    "import numpy as np # linear algebra\r\n",
    "import pandas as pd # data processing, CSV file I/O (e.g. pd.read_csv)\r\n",
    "import seaborn as sns\r\n",
    "import matplotlib.pyplot as plt\r\n",
    "from sklearn.preprocessing import MinMaxScaler\r\n",
    "\r\n",
    "## Random params\r\n",
    "np.random.seed(0)\r\n",
    "random_state = 338\r\n",
    "\r\n",
    "## Plot params\r\n",
    "%matplotlib inline\r\n",
    "np.random.seed(0)\r\n",
    "plt.rcParams['figure.figsize'] = [20, 8]\r\n",
    "plt.rcParams['figure.dpi'] = 100 # 200 e.g. is really fine, but slower\r\n",
    "sns.set_theme(context=\"notebook\")\r\n",
    "\r\n",
    "## Load train and test\r\n",
    "test = pd.read_csv('../test.csv', index_col='id')\r\n",
    "dT = pd.read_csv('../train.csv', index_col='id')\r\n",
    "\r\n",
    "## Calc stats\r\n",
    "stats = dT.describe()\r\n",
    "statsTarget = stats.pop('claim')\r\n",
    "stats = stats.transpose()"
   ],
   "outputs": [],
   "metadata": {}
  },
  {
   "cell_type": "code",
   "execution_count": 86,
   "source": [
    "stats['rounded_std_over_mean'] = round(abs(stats['std']/stats['mean']), 2)\r\n",
    "plt.stem(stats.loc[stats['rounded_std_over_mean']<= 6]['rounded_std_over_mean'])\r\n",
    "plt.axhline(0.3)"
   ],
   "outputs": [
    {
     "output_type": "execute_result",
     "data": {
      "text/plain": [
       "<matplotlib.lines.Line2D at 0x1d236162d60>"
      ]
     },
     "metadata": {},
     "execution_count": 86
    },
    {
     "output_type": "display_data",
     "data": {
      "image/png": "[encoded data removed]",
      "text/plain": [
       "<Figure size 2000x800 with 1 Axes>"
      ]
     },
     "metadata": {}
    }
   ],
   "metadata": {}
  },
  {
   "cell_type": "code",
   "execution_count": 87,
   "source": [
    "stats.head()"
   ],
   "outputs": [
    {
     "output_type": "execute_result",
     "data": {
      "text/html": [
       "<div>\n",
       "<style scoped>\n",
       "    .dataframe tbody tr th:only-of-type {\n",
       "        vertical-align: middle;\n",
       "    }\n",
       "\n",
       "    .dataframe tbody tr th {\n",
       "        vertical-align: top;\n",
       "    }\n",
       "\n",
       "    .dataframe thead th {\n",
       "        text-align: right;\n",
       "    }\n",
       "</style>\n",
       "<table border=\"1\" class=\"dataframe\">\n",
       "  <thead>\n",
       "    <tr style=\"text-align: right;\">\n",
       "      <th></th>\n",
       "      <th>count</th>\n",
       "      <th>mean</th>\n",
       "      <th>std</th>\n",
       "      <th>min</th>\n",
       "      <th>25%</th>\n",
       "      <th>50%</th>\n",
       "      <th>75%</th>\n",
       "      <th>max</th>\n",
       "      <th>rounded_std_over_mean</th>\n",
       "    </tr>\n",
       "  </thead>\n",
       "  <tbody>\n",
       "    <tr>\n",
       "      <th>f1</th>\n",
       "      <td>942672.0</td>\n",
       "      <td>0.090201</td>\n",
       "      <td>0.043564</td>\n",
       "      <td>-0.149910</td>\n",
       "      <td>0.070227</td>\n",
       "      <td>0.090135</td>\n",
       "      <td>0.11650</td>\n",
       "      <td>0.41517</td>\n",
       "      <td>0.48</td>\n",
       "    </tr>\n",
       "    <tr>\n",
       "      <th>f2</th>\n",
       "      <td>942729.0</td>\n",
       "      <td>0.345964</td>\n",
       "      <td>0.146251</td>\n",
       "      <td>-0.019044</td>\n",
       "      <td>0.283050</td>\n",
       "      <td>0.389100</td>\n",
       "      <td>0.45845</td>\n",
       "      <td>0.51899</td>\n",
       "      <td>0.42</td>\n",
       "    </tr>\n",
       "    <tr>\n",
       "      <th>f3</th>\n",
       "      <td>942428.0</td>\n",
       "      <td>4068.744207</td>\n",
       "      <td>6415.829440</td>\n",
       "      <td>-9421.700000</td>\n",
       "      <td>418.430000</td>\n",
       "      <td>1279.500000</td>\n",
       "      <td>4444.40000</td>\n",
       "      <td>39544.00000</td>\n",
       "      <td>1.58</td>\n",
       "    </tr>\n",
       "    <tr>\n",
       "      <th>f4</th>\n",
       "      <td>942359.0</td>\n",
       "      <td>0.201214</td>\n",
       "      <td>0.212510</td>\n",
       "      <td>-0.082122</td>\n",
       "      <td>0.035086</td>\n",
       "      <td>0.137000</td>\n",
       "      <td>0.29710</td>\n",
       "      <td>1.31990</td>\n",
       "      <td>1.06</td>\n",
       "    </tr>\n",
       "    <tr>\n",
       "      <th>f5</th>\n",
       "      <td>942514.0</td>\n",
       "      <td>0.304869</td>\n",
       "      <td>0.145343</td>\n",
       "      <td>-0.006990</td>\n",
       "      <td>0.240520</td>\n",
       "      <td>0.327790</td>\n",
       "      <td>0.41283</td>\n",
       "      <td>0.55475</td>\n",
       "      <td>0.48</td>\n",
       "    </tr>\n",
       "  </tbody>\n",
       "</table>\n",
       "</div>"
      ],
      "text/plain": [
       "       count         mean          std          min         25%          50%  \\\n",
       "f1  942672.0     0.090201     0.043564    -0.149910    0.070227     0.090135   \n",
       "f2  942729.0     0.345964     0.146251    -0.019044    0.283050     0.389100   \n",
       "f3  942428.0  4068.744207  6415.829440 -9421.700000  418.430000  1279.500000   \n",
       "f4  942359.0     0.201214     0.212510    -0.082122    0.035086     0.137000   \n",
       "f5  942514.0     0.304869     0.145343    -0.006990    0.240520     0.327790   \n",
       "\n",
       "           75%          max  rounded_std_over_mean  \n",
       "f1     0.11650      0.41517                   0.48  \n",
       "f2     0.45845      0.51899                   0.42  \n",
       "f3  4444.40000  39544.00000                   1.58  \n",
       "f4     0.29710      1.31990                   1.06  \n",
       "f5     0.41283      0.55475                   0.48  "
      ]
     },
     "metadata": {},
     "execution_count": 87
    }
   ],
   "metadata": {}
  },
  {
   "cell_type": "code",
   "execution_count": 93,
   "source": [
    "selection = list(stats.loc[stats['rounded_std_over_mean']>=0.3].index.values)\r\n",
    "selection.append('claim')\r\n",
    "print(selection)\r\n",
    "aug = dT[selection].copy()"
   ],
   "outputs": [
    {
     "output_type": "stream",
     "name": "stdout",
     "text": [
      "['f1', 'f2', 'f3', 'f4', 'f5', 'f6', 'f7', 'f8', 'f9', 'f10', 'f11', 'f12', 'f13', 'f14', 'f15', 'f16', 'f18', 'f19', 'f20', 'f21', 'f22', 'f23', 'f24', 'f25', 'f26', 'f27', 'f28', 'f29', 'f30', 'f31', 'f32', 'f33', 'f34', 'f35', 'f36', 'f37', 'f38', 'f39', 'f40', 'f41', 'f42', 'f44', 'f45', 'f47', 'f48', 'f49', 'f50', 'f51', 'f52', 'f53', 'f55', 'f56', 'f57', 'f58', 'f59', 'f60', 'f61', 'f62', 'f63', 'f64', 'f65', 'f66', 'f67', 'f68', 'f70', 'f72', 'f73', 'f74', 'f75', 'f77', 'f78', 'f79', 'f80', 'f81', 'f82', 'f83', 'f84', 'f85', 'f86', 'f87', 'f88', 'f89', 'f90', 'f91', 'f92', 'f93', 'f94', 'f95', 'f96', 'f98', 'f99', 'f100', 'f101', 'f102', 'f103', 'f104', 'f105', 'f106', 'f107', 'f108', 'f109', 'f110', 'f111', 'f112', 'f113', 'f114', 'f116', 'f117', 'f118', 'claim']\n"
     ]
    }
   ],
   "metadata": {}
  },
  {
   "cell_type": "code",
   "execution_count": 94,
   "source": [
    "aug.head()\r\n",
    "aug = aug.fillna(value = aug.mode())"
   ],
   "outputs": [],
   "metadata": {}
  },
  {
   "cell_type": "code",
   "execution_count": 41,
   "source": [
    "from sklearn.model_selection import train_test_split\r\n",
    "from sklearn.metrics import roc_auc_score\r\n",
    "\r\n",
    "def avaliaModelo(X,y,modelo):\r\n",
    "    \r\n",
    "    X_train, X_test, y_train, y_test = train_test_split(X, y, test_size=0.33, random_state=42)\r\n",
    "\r\n",
    "    modelo.fit(X_train,y_train,verbose=False,plot=True)\r\n",
    "\r\n",
    "    print(roc_auc_score(y_test, modelo.predict_proba(X_test)[:,1]))"
   ],
   "outputs": [],
   "metadata": {}
  },
  {
   "cell_type": "code",
   "execution_count": 95,
   "source": [
    "from catboost import CatBoostClassifier\r\n",
    "\r\n",
    "modelo_FULLDS = CatBoostClassifier(iterations=3000,task_type=\"GPU\",devices='0:1', eval_metric='AUC')\r\n",
    "\r\n",
    "print('\\n ~ FULL ~')\r\n",
    "X_full = dT.copy()\r\n",
    "y_full = X_full.pop('claim')\r\n",
    "avaliaModelo(X_full,y_full,modelo_FULLDS)"
   ],
   "outputs": [
    {
     "output_type": "stream",
     "name": "stdout",
     "text": [
      "\n",
      " ~ FULL ~\n"
     ]
    },
    {
     "output_type": "display_data",
     "data": {
      "application/vnd.jupyter.widget-view+json": {
       "version_major": 2,
       "version_minor": 0,
       "model_id": "462cd8659a8048d5b81217337e237c7e"
      },
      "text/plain": [
       "MetricVisualizer(layout=Layout(align_self='stretch', height='500px'))"
      ]
     },
     "metadata": {}
    },
    {
     "output_type": "stream",
     "name": "stdout",
     "text": [
      "0.8004246343436816\n"
     ]
    }
   ],
   "metadata": {}
  },
  {
   "cell_type": "code",
   "execution_count": 96,
   "source": [
    "modelo_SEL_AUG = CatBoostClassifier(iterations=1000,task_type=\"GPU\",devices='0:1', eval_metric='AUC')\r\n",
    "\r\n",
    "print('\\n ~ SELECTED AUGMENTED ~')\r\n",
    "X_sel_aug = aug.copy()\r\n",
    "y_sel_aug = X_sel_aug.pop('claim')\r\n",
    "avaliaModelo(X_sel_aug,y_sel_aug,modelo_SEL_AUG)"
   ],
   "outputs": [
    {
     "output_type": "stream",
     "name": "stdout",
     "text": [
      "\n",
      " ~ SELECTED AUGMENTED ~\n"
     ]
    },
    {
     "output_type": "display_data",
     "data": {
      "application/vnd.jupyter.widget-view+json": {
       "version_major": 2,
       "version_minor": 0,
       "model_id": "69cd0a3afdf9450e8f07575dfafd0466"
      },
      "text/plain": [
       "MetricVisualizer(layout=Layout(align_self='stretch', height='500px'))"
      ]
     },
     "metadata": {}
    },
    {
     "output_type": "stream",
     "name": "stdout",
     "text": [
      "0.7958837449181271\n"
     ]
    }
   ],
   "metadata": {}
  }
 ],
 "metadata": {
  "orig_nbformat": 4,
  "language_info": {
   "name": "python",
   "version": "3.8.8",
   "mimetype": "text/x-python",
   "codemirror_mode": {
    "name": "ipython",
    "version": 3
   },
   "pygments_lexer": "ipython3",
   "nbconvert_exporter": "python",
   "file_extension": ".py"
  },
  "kernelspec": {
   "name": "python3",
   "display_name": "Python 3.8.8 64-bit"
  },
  "interpreter": {
   "hash": "cfa9f19be2613e4579a58a9987011ae958af41d7e96c35562382e4ee706b270d"
  }
 },
 "nbformat": 4,
 "nbformat_minor": 2
}